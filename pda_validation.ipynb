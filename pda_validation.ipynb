{
 "cells": [
  {
   "cell_type": "code",
   "execution_count": null,
   "metadata": {},
   "outputs": [],
   "source": [
    "# import the model engine\n",
    "from explain_core.ModelEngine import ModelEngine\n",
    "\n",
    "# instantiate a model engine using the normal_neonate model definition file\n",
    "neo = ModelEngine(\"normal_neonate.json\").io\n",
    "\n",
    "# get a reference to the model components\n",
    "component = neo.model.components\n",
    "\n",
    "# disable pda model\n",
    "component['pda'].is_enabled = False\n",
    "\n",
    "# enable the foramen ovale\n",
    "component['FO'].is_enabled = True\n",
    "\n",
    "# enable the autonomic nervous system\n",
    "component['ans'].is_enabled = True\n",
    "\n",
    "# disable the metabolism model\n",
    "component['metabolism'].is_enabeld = False\n",
    "\n",
    "# enable intrathoracic pressure model\n",
    "component['itp'].is_enabled = True\n",
    "\n",
    "# disable spontaneous breathing\n",
    "component['breathing'].is_enabled = False\n",
    "\n",
    "# stabilize model by calculating the first 30 seconds\n",
    "neo.calculate(60)"
   ]
  },
  {
   "cell_type": "code",
   "execution_count": null,
   "metadata": {},
   "outputs": [],
   "source": []
  }
 ],
 "metadata": {
  "interpreter": {
   "hash": "d350ac64801bfb67c7c1ae8f81f34a7cfe4a170ec9e3017b426fc07c3d23800a"
  },
  "kernelspec": {
   "display_name": "Python 3.7.12 ('pypy')",
   "language": "python",
   "name": "python3"
  },
  "language_info": {
   "codemirror_mode": {
    "name": "ipython",
    "version": 3
   },
   "file_extension": ".py",
   "mimetype": "text/x-python",
   "name": "python",
   "nbconvert_exporter": "python",
   "pygments_lexer": "ipython3",
   "version": "3.7.12"
  },
  "orig_nbformat": 4
 },
 "nbformat": 4,
 "nbformat_minor": 2
}

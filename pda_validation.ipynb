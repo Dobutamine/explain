{
 "cells": [
  {
   "cell_type": "code",
   "execution_count": null,
   "metadata": {},
   "outputs": [],
   "source": [
    "# switch off the jedi autocompleter\n",
    "%config Completer.use_jedi = False\n",
    "\n",
    "# import the model engine\n",
    "from explain_core.ModelEngine import ModelEngine\n",
    "\n",
    "# instantiate a model engine using the normal_neonate model definition file\n",
    "neo = ModelEngine(\"normal_neonate.json\").io\n",
    "\n",
    "# get a reference to the model components\n",
    "component = neo.model.components\n",
    "\n",
    "# disable pda model\n",
    "component['pda'].is_enabled = False\n",
    "\n",
    "# enable the foramen ovale\n",
    "component['FO'].is_enabled = True\n",
    "\n",
    "# enable the autonomic nervous system\n",
    "component['ans'].is_enabled = True\n",
    "\n",
    "# disable the metabolism model\n",
    "component['metabolism'].is_enabeld = False\n",
    "\n",
    "# enable intrathoracic pressure model\n",
    "component['itp'].is_enabled = True\n",
    "\n",
    "# disable spontaneous breathing\n",
    "component['breathing'].is_enabled = False\n",
    "\n",
    "# stabilize model by calculating the first 30 seconds\n",
    "neo.calculate(60)"
   ]
  },
  {
   "cell_type": "code",
   "execution_count": null,
   "metadata": {},
   "outputs": [],
   "source": []
  }
 ],
 "metadata": {
  "language_info": {
   "name": "python"
  },
  "orig_nbformat": 4
 },
 "nbformat": 4,
 "nbformat_minor": 2
}
